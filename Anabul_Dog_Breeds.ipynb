{
  "nbformat": 4,
  "nbformat_minor": 0,
  "metadata": {
    "colab": {
      "provenance": [],
      "include_colab_link": true
    },
    "kernelspec": {
      "name": "python3",
      "display_name": "Python 3"
    },
    "language_info": {
      "name": "python"
    }
  },
  "cells": [
    {
      "cell_type": "markdown",
      "metadata": {
        "id": "view-in-github",
        "colab_type": "text"
      },
      "source": [
        "<a href=\"https://colab.research.google.com/github/mohammedalqi/anabul-app/blob/main/Anabul_Dog_Breeds.ipynb\" target=\"_parent\"><img src=\"https://colab.research.google.com/assets/colab-badge.svg\" alt=\"Open In Colab\"/></a>"
      ]
    },
    {
      "cell_type": "code",
      "execution_count": null,
      "metadata": {
        "id": "LWvp1JURQ2cj"
      },
      "outputs": [],
      "source": [
        "import tensorflow as tf\n",
        "from tensorflow.keras.preprocessing.image import ImageDataGenerator"
      ]
    },
    {
      "cell_type": "code",
      "source": [
        "# Mendownload dataset dari Kaggle\n",
        "!pip install kaggle\n",
        "import os\n",
        "os.environ['KAGGLE_USERNAME'] = 'your_kaggle_username'\n",
        "os.environ['KAGGLE_KEY'] = 'your_kaggle_key'\n",
        "!kaggle datasets download -d yapwh1208/dogs-breed-dataset"
      ],
      "metadata": {
        "id": "YFzjABH2Q_cf"
      },
      "execution_count": null,
      "outputs": []
    },
    {
      "cell_type": "markdown",
      "source": [
        "Pastikan untuk menggantikan 'your_kaggle_username' dan 'your_kaggle_key' dengan kredensial akun Kaggle Anda. Juga, pastikan bahwa Anda telah menginstal paket Kaggle, yang dapat Anda lakukan dengan menjalankan !pip install kaggle di notebook Anda sebelum menjalankan kode ini."
      ],
      "metadata": {
        "id": "OQMQDIOBRct3"
      }
    },
    {
      "cell_type": "code",
      "source": [
        "# Ekstraksi dataset\n",
        "import zipfile\n",
        "with zipfile.ZipFile('dogs-breed-dataset.zip', 'r') as zip_ref:\n",
        "    zip_ref.extractall('dog_breeds_dataset')"
      ],
      "metadata": {
        "id": "7gHffdRuRChJ"
      },
      "execution_count": null,
      "outputs": []
    },
    {
      "cell_type": "code",
      "source": [
        "# Mendefinisikan path dataset\n",
        "train_data_dir = 'dog_breeds_dataset/Train'\n",
        "validation_data_dir = 'dog_breeds_dataset/Test'"
      ],
      "metadata": {
        "id": "CO2xyq0LREUV"
      },
      "execution_count": null,
      "outputs": []
    },
    {
      "cell_type": "code",
      "source": [
        "# Mendefinisikan parameter training\n",
        "batch_size = 32\n",
        "epochs = 10\n",
        "img_width, img_height = 150, 150"
      ],
      "metadata": {
        "id": "b4G2Ya9TRFvX"
      },
      "execution_count": null,
      "outputs": []
    },
    {
      "cell_type": "code",
      "source": [
        "# Membangun model CNN\n",
        "model = tf.keras.models.Sequential([\n",
        "    tf.keras.layers.Conv2D(32, (3, 3), activation='relu', input_shape=(img_width, img_height, 3)),\n",
        "    tf.keras.layers.MaxPooling2D(pool_size=(2, 2)),\n",
        "    tf.keras.layers.Conv2D(64, (3, 3), activation='relu'),\n",
        "    tf.keras.layers.MaxPooling2D(pool_size=(2, 2)),\n",
        "    tf.keras.layers.Conv2D(128, (3, 3), activation='relu'),\n",
        "    tf.keras.layers.MaxPooling2D(pool_size=(2, 2)),\n",
        "    tf.keras.layers.Flatten(),\n",
        "    tf.keras.layers.Dense(64, activation='relu'),\n",
        "    tf.keras.layers.Dropout(0.5),\n",
        "    tf.keras.layers.Dense(133, activation='softmax')\n",
        "])"
      ],
      "metadata": {
        "id": "yVSbqIE_RHuK"
      },
      "execution_count": null,
      "outputs": []
    },
    {
      "cell_type": "code",
      "source": [
        "# Mengkompilasi model\n",
        "model.compile(optimizer='adam',\n",
        "              loss='categorical_crossentropy',\n",
        "              metrics=['accuracy'])"
      ],
      "metadata": {
        "id": "hePeRq2NRJe0"
      },
      "execution_count": null,
      "outputs": []
    },
    {
      "cell_type": "code",
      "source": [
        "# Membuat augmentasi gambar\n",
        "train_datagen = ImageDataGenerator(rescale=1. / 255,\n",
        "                                   shear_range=0.2,\n",
        "                                   zoom_range=0.2,\n",
        "                                   horizontal_flip=True)\n",
        "\n",
        "validation_datagen = ImageDataGenerator(rescale=1. / 255)"
      ],
      "metadata": {
        "id": "BYtemV79RLhC"
      },
      "execution_count": null,
      "outputs": []
    },
    {
      "cell_type": "code",
      "source": [
        "# Mempersiapkan data latih\n",
        "train_generator = train_datagen.flow_from_directory(\n",
        "    train_data_dir,\n",
        "    target_size=(img_width, img_height),\n",
        "    batch_size=batch_size,\n",
        "    class_mode='categorical')"
      ],
      "metadata": {
        "id": "2_4fUaG5RPmS"
      },
      "execution_count": null,
      "outputs": []
    },
    {
      "cell_type": "code",
      "source": [
        "# Mempersiapkan data validasi\n",
        "validation_generator = validation_datagen.flow_from_directory(\n",
        "    validation_data_dir,\n",
        "    target_size=(img_width, img_height),\n",
        "    batch_size=batch_size,\n",
        "    class_mode='categorical')"
      ],
      "metadata": {
        "id": "N4txWkccRSas"
      },
      "execution_count": null,
      "outputs": []
    },
    {
      "cell_type": "code",
      "source": [
        "# Melatih model\n",
        "model.fit(\n",
        "    train_generator,\n",
        "    steps_per_epoch=train_generator.samples // batch_size,\n",
        "    epochs=epochs,\n",
        "    validation_data=validation_generator,\n",
        "    validation_steps=validation_generator.samples // batch_size)"
      ],
      "metadata": {
        "id": "jhMqm40_RUcY"
      },
      "execution_count": null,
      "outputs": []
    },
    {
      "cell_type": "code",
      "source": [
        "# Menyimpan model\n",
        "model.save('dog_breed_classification_model.h5')"
      ],
      "metadata": {
        "id": "_Wrl3-BuRV7E"
      },
      "execution_count": null,
      "outputs": []
    }
  ]
}