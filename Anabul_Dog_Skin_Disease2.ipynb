{
  "nbformat": 4,
  "nbformat_minor": 0,
  "metadata": {
    "colab": {
      "provenance": []
    },
    "kernelspec": {
      "name": "python3",
      "display_name": "Python 3"
    },
    "language_info": {
      "name": "python"
    }
  },
  "cells": [
    {
      "cell_type": "code",
      "source": [
        "from google.colab import drive\n",
        "drive.mount('/content/drive')"
      ],
      "metadata": {
        "id": "gH5PNbQWCneI",
        "colab": {
          "base_uri": "https://localhost:8080/"
        },
        "outputId": "a4b8666f-3b31-462d-c374-47f761f78747"
      },
      "execution_count": null,
      "outputs": [
        {
          "output_type": "stream",
          "name": "stdout",
          "text": [
            "Drive already mounted at /content/drive; to attempt to forcibly remount, call drive.mount(\"/content/drive\", force_remount=True).\n"
          ]
        }
      ]
    },
    {
      "cell_type": "code",
      "execution_count": null,
      "metadata": {
        "id": "2rkJlZ2E-MDY"
      },
      "outputs": [],
      "source": [
        "import tensorflow as tf\n",
        "from tensorflow.keras.preprocessing.image import ImageDataGenerator\n",
        "from tensorflow.keras.applications import ResNet50\n",
        "from tensorflow.keras.layers import GlobalAveragePooling2D, Dense\n",
        "from tensorflow.keras.models import Model"
      ]
    },
    {
      "cell_type": "code",
      "source": [
        "# Mendefinisikan path dataset\n",
        "train_data_dir = '/content/drive/MyDrive/dataset/train'\n",
        "validation_data_dir = '/content/drive/MyDrive/dataset/validation'"
      ],
      "metadata": {
        "id": "8LqvjjUW-yVi"
      },
      "execution_count": null,
      "outputs": []
    },
    {
      "cell_type": "code",
      "source": [
        "# Mendefinisikan parameter training\n",
        "batch_size = 32\n",
        "epochs = 10\n",
        "img_width, img_height = 224, 224\n",
        "num_classes = 4"
      ],
      "metadata": {
        "id": "SVrxVyTf_dIB"
      },
      "execution_count": null,
      "outputs": []
    },
    {
      "cell_type": "code",
      "source": [
        "# Membuat objek pre-trained model ResNet50 tanpa lapisan fully connected (include_top=False)\n",
        "base_model = ResNet50(weights='imagenet', include_top=False, input_shape=(img_width, img_height, 3))"
      ],
      "metadata": {
        "colab": {
          "base_uri": "https://localhost:8080/"
        },
        "id": "1b2NeryPq85Y",
        "outputId": "1986226c-57a6-45c4-d0eb-adb755ff8543"
      },
      "execution_count": null,
      "outputs": [
        {
          "output_type": "stream",
          "name": "stdout",
          "text": [
            "Downloading data from https://storage.googleapis.com/tensorflow/keras-applications/resnet/resnet50_weights_tf_dim_ordering_tf_kernels_notop.h5\n",
            "94765736/94765736 [==============================] - 4s 0us/step\n"
          ]
        }
      ]
    },
    {
      "cell_type": "code",
      "source": [
        "# Membekukan parameter pre-trained model\n",
        "base_model.trainable = False\n"
      ],
      "metadata": {
        "id": "3lZTo4jbrD8D"
      },
      "execution_count": null,
      "outputs": []
    },
    {
      "cell_type": "code",
      "source": [
        "# Membangun model\n",
        "x = base_model.output\n",
        "x = GlobalAveragePooling2D()(x)\n",
        "x = Dense(256, activation='relu')(x)\n",
        "predictions = Dense(num_classes, activation='softmax')(x)\n",
        "model = Model(inputs=base_model.input, outputs=predictions)"
      ],
      "metadata": {
        "id": "w0QMdAq0rHQ1"
      },
      "execution_count": null,
      "outputs": []
    },
    {
      "cell_type": "code",
      "source": [
        "# Mengkompilasi model\n",
        "model.compile(optimizer='adam',\n",
        "              loss='categorical_crossentropy',\n",
        "              metrics=['accuracy'])"
      ],
      "metadata": {
        "id": "emmkLyiNrJwK"
      },
      "execution_count": null,
      "outputs": []
    },
    {
      "cell_type": "code",
      "source": [
        "# Membuat augmentasi gambar\n",
        "train_datagen = ImageDataGenerator(rescale=1. / 255,\n",
        "                                   shear_range=0.2,\n",
        "                                   zoom_range=0.2,\n",
        "                                   horizontal_flip=True)\n",
        "\n",
        "validation_datagen = ImageDataGenerator(rescale=1. / 255)"
      ],
      "metadata": {
        "id": "N3NAbIg4rNMX"
      },
      "execution_count": null,
      "outputs": []
    },
    {
      "cell_type": "code",
      "source": [
        "# Mempersiapkan data latih\n",
        "train_generator = train_datagen.flow_from_directory(\n",
        "    train_data_dir,\n",
        "    target_size=(img_width, img_height),\n",
        "    batch_size=batch_size,\n",
        "    class_mode='categorical')"
      ],
      "metadata": {
        "colab": {
          "base_uri": "https://localhost:8080/"
        },
        "id": "2Ydgb127rZf5",
        "outputId": "df7a851c-af4d-4c27-f402-073c961f0785"
      },
      "execution_count": null,
      "outputs": [
        {
          "output_type": "stream",
          "name": "stdout",
          "text": [
            "Found 500 images belonging to 4 classes.\n"
          ]
        }
      ]
    },
    {
      "cell_type": "code",
      "source": [
        "# Mempersiapkan data validasi\n",
        "validation_generator = validation_datagen.flow_from_directory(\n",
        "    validation_data_dir,\n",
        "    target_size=(img_width, img_height),\n",
        "    batch_size=batch_size,\n",
        "    class_mode='categorical')"
      ],
      "metadata": {
        "colab": {
          "base_uri": "https://localhost:8080/"
        },
        "id": "w13XGhCOrbll",
        "outputId": "8e41d70b-f859-4223-b34a-0eff68f2e2b0"
      },
      "execution_count": null,
      "outputs": [
        {
          "output_type": "stream",
          "name": "stdout",
          "text": [
            "Found 121 images belonging to 4 classes.\n"
          ]
        }
      ]
    },
    {
      "cell_type": "code",
      "source": [
        "# Melatih model\n",
        "model.fit(\n",
        "    train_generator,\n",
        "    steps_per_epoch=train_generator.samples // batch_size,\n",
        "    epochs=epochs,\n",
        "    validation_data=validation_generator,\n",
        "    validation_steps=validation_generator.samples // batch_size)"
      ],
      "metadata": {
        "colab": {
          "base_uri": "https://localhost:8080/"
        },
        "id": "pLxHv0n0rd4x",
        "outputId": "6c10f87e-3bcc-4061-812c-73b38ddb0cc6"
      },
      "execution_count": null,
      "outputs": [
        {
          "output_type": "stream",
          "name": "stdout",
          "text": [
            "Epoch 1/10\n",
            "15/15 [==============================] - 162s 10s/step - loss: 1.4635 - accuracy: 0.3440 - val_loss: 1.3603 - val_accuracy: 0.4271\n",
            "Epoch 2/10\n",
            "15/15 [==============================] - 167s 11s/step - loss: 1.4216 - accuracy: 0.3632 - val_loss: 1.3561 - val_accuracy: 0.3542\n",
            "Epoch 3/10\n",
            "15/15 [==============================] - 177s 12s/step - loss: 1.3351 - accuracy: 0.4209 - val_loss: 1.3298 - val_accuracy: 0.4167\n",
            "Epoch 4/10\n",
            "15/15 [==============================] - 166s 11s/step - loss: 1.3556 - accuracy: 0.3547 - val_loss: 1.3548 - val_accuracy: 0.4167\n",
            "Epoch 5/10\n",
            "15/15 [==============================] - 169s 11s/step - loss: 1.3786 - accuracy: 0.4042 - val_loss: 1.3316 - val_accuracy: 0.4167\n",
            "Epoch 6/10\n",
            "15/15 [==============================] - 171s 12s/step - loss: 1.3621 - accuracy: 0.4038 - val_loss: 1.3732 - val_accuracy: 0.3958\n",
            "Epoch 7/10\n",
            "15/15 [==============================] - 166s 11s/step - loss: 1.3346 - accuracy: 0.4167 - val_loss: 1.3222 - val_accuracy: 0.4062\n",
            "Epoch 8/10\n",
            "15/15 [==============================] - 167s 11s/step - loss: 1.3367 - accuracy: 0.4167 - val_loss: 1.4050 - val_accuracy: 0.4062\n",
            "Epoch 9/10\n",
            "15/15 [==============================] - 166s 11s/step - loss: 1.3444 - accuracy: 0.3868 - val_loss: 1.4034 - val_accuracy: 0.4062\n",
            "Epoch 10/10\n",
            "15/15 [==============================] - 165s 11s/step - loss: 1.3282 - accuracy: 0.4231 - val_loss: 1.3408 - val_accuracy: 0.4271\n"
          ]
        },
        {
          "output_type": "execute_result",
          "data": {
            "text/plain": [
              "<keras.callbacks.History at 0x7f0336d26260>"
            ]
          },
          "metadata": {},
          "execution_count": 27
        }
      ]
    },
    {
      "cell_type": "code",
      "source": [
        "# Menyimpan model\n",
        "model.save('/content/drive/MyDrive/model/skin_disease_classification_model.h5')"
      ],
      "metadata": {
        "id": "0Jqma9Po_tYD"
      },
      "execution_count": null,
      "outputs": []
    }
  ]
}